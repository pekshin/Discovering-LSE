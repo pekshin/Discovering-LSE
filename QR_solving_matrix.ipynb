{
 "cells": [
  {
   "cell_type": "code",
   "execution_count": 1,
   "metadata": {
    "ExecuteTime": {
     "end_time": "2018-12-16T12:35:38.239860Z",
     "start_time": "2018-12-16T12:35:36.702499Z"
    }
   },
   "outputs": [
    {
     "name": "stdout",
     "output_type": "stream",
     "text": [
      "Coefficient - 1.0023322569070685\n"
     ]
    },
    {
     "data": {
      "image/png": "[encoded data removed]",
      "text/plain": [
       "<Figure size 432x288 with 1 Axes>"
      ]
     },
     "metadata": {
      "needs_background": "light"
     },
     "output_type": "display_data"
    }
   ],
   "source": [
    "%matplotlib inline\n",
    "import numpy as np\n",
    "# solve directly\n",
    "\n",
    "from matplotlib import pyplot\n",
    "data = np.array([\n",
    "            [0.05, 0.12],\n",
    "            [0.18, 0.22],\n",
    "            [0.31, 0.35],\n",
    "            [0.42, 0.38],\n",
    "            [0.5, 0.49],\n",
    "            ])\n",
    "X, y = data[:,0], data[:,1]\n",
    "X = X.reshape((len(X), 1))\n",
    "# linear least squares\n",
    "# np.linalg.inv -- обратная матрица\n",
    "# np.dot(a,b) -- перемножает матрицы\n",
    "b = np.dot(np.dot(np.linalg.inv(np.dot(X.T,X)),X.T),y) #  inv(X.T.dot(X)).dot(X.T).dot(y) \n",
    "print(\"Coefficient -\", b[0])\n",
    "\n",
    "# построим график, используя данные коэффициенты\n",
    "yhat = np.dot(X, b)\n",
    "\n",
    "# посмотрим на данные и получившиеся результаты\n",
    "pyplot.scatter(X, y)\n",
    "pyplot.plot(X, yhat, color='red')\n",
    "pyplot.show()\n"
   ]
  },
  {
   "cell_type": "markdown",
   "metadata": {},
   "source": [
    "# QR-Decomposition\n",
    "\n",
    "One of the key benefits of using QR Decomposition over other methods for solving linear least squares is that it is more numerically stable\n",
    "\n",
    "For a square matrix A the QR Decomposition converts A into the product of an orthogonal matrix Q (i.e. QTQ=I) and an upper triangular matrix R. Hence:\n",
    "\n",
    "A=QR\n",
    "\n",
    "The method of Householder Reflections, which is known to be more numerically stable the the alternative Gramm-Schmidt method. \n",
    "\n",
    "1. Easy solve with internal function in NumPy"
   ]
  },
  {
   "cell_type": "code",
   "execution_count": 2,
   "metadata": {
    "ExecuteTime": {
     "end_time": "2018-12-16T12:35:38.246856Z",
     "start_time": "2018-12-16T12:35:38.241833Z"
    }
   },
   "outputs": [
    {
     "name": "stdout",
     "output_type": "stream",
     "text": [
      "1.0023322569070687\n"
     ]
    }
   ],
   "source": [
    "Q, R = np.linalg.qr(X)\n",
    "b = np.linalg.inv(R).dot(Q.T).dot(y)\n",
    "print (b[0])\n",
    "\n"
   ]
  },
  {
   "cell_type": "code",
   "execution_count": 74,
   "metadata": {
    "ExecuteTime": {
     "end_time": "2018-12-16T13:52:26.291698Z",
     "start_time": "2018-12-16T13:52:26.285697Z"
    }
   },
   "outputs": [
    {
     "name": "stdout",
     "output_type": "stream",
     "text": [
      "[[ 1 -1  2  2  7]\n",
      " [-1  2  1 -1  4]\n",
      " [ 2  1  3  2  2]\n",
      " [ 2 -1  2  1  5]]\n",
      "[[-0.31622777  0.28342172  0.82268766 -0.37796447]\n",
      " [ 0.31622777 -0.68830988  0.53232731  0.37796447]\n",
      " [-0.63245553 -0.64782106 -0.19357357 -0.37796447]\n",
      " [-0.63245553  0.16195527  0.04839339  0.75592895]]\n",
      "[[-3.16227766  0.9486833  -3.47850543 -2.84604989 -5.37587202]\n",
      " [ 0.         -2.46981781 -1.74101911  0.12146645 -1.25515331]\n",
      " [ 0.          0.          1.69376871  0.77429427  7.7429427 ]\n",
      " [ 0.          0.          0.         -1.13389342  1.88982237]]\n"
     ]
    }
   ],
   "source": [
    "import scipy\n",
    "import scipy.linalg   # SciPy Linear Algebra Library\n",
    "\n",
    "# A = scipy.array([[1, -1, 4], [1, 4, -2], [1, 4, 2],[1, -1, 0]])  # From the Wikipedia Article on QR Decomposition\n",
    "\n",
    "A = scipy.array([[1, -1, 2, 2], [-1, 2, 1, -1], [2, 1, 3, 2],[2, -1, 2, 1]])  # From the Wikipedia Article on QR Decomposition\n",
    "\n",
    "# A = scipy.array([[63,41,-88],[42,60,51],[0,-28,56],[126,82,-71]])  # From the Wikipedia Article on QR Decomposition\n",
    "\n",
    "\n",
    "# A = scipy.array([[1,1,0],[2,-3,0],[8,4,-4]])  # From the Wikipedia Article on QR Decomposition\n",
    "\n",
    "# A = scipy.array([[2, -1, 5],[3, 2, -5],[1, 1, -2]])\n",
    "# A = scipy.array([[1, 6, 2, 9], [-1, 2, 1, -1], [2, 1, 3, 2],[2, -1, 2, 1]]) \n",
    "\n",
    "Q, R = scipy.linalg.qr(A)\n",
    "\n",
    "print (A)\n",
    "\n",
    "print (Q)\n",
    "\n",
    "print (R)"
   ]
  },
  {
   "cell_type": "markdown",
   "metadata": {},
   "source": [
    "2. Hard-core solution of the problem\n",
    "\n",
    "Web resourses, that i have been used:\n",
    " > https://www.quantstart.com/articles/QR-Decomposition-with-Python-and-NumPy\n",
    " > http://mathfaculty.fullerton.edu/mathews/n2003/householder/HouseholderMod/Links/HouseholderMod_lnk_2.html\n",
    " "
   ]
  },
  {
   "cell_type": "code",
   "execution_count": 75,
   "metadata": {
    "ExecuteTime": {
     "end_time": "2018-12-16T13:53:12.109160Z",
     "start_time": "2018-12-16T13:53:12.096115Z"
    }
   },
   "outputs": [
    {
     "name": "stdout",
     "output_type": "stream",
     "text": [
      "A_last [[ 1 -1  2  2]\n",
      " [-1  2  1 -1]\n",
      " [ 2  1  3  2]\n",
      " [ 2 -1  2  1]]\n",
      "Q: [[-0.3162      0.28345426  0.82270588 -0.37801552]\n",
      " [ 0.3162     -0.68823538  0.53233091  0.37794706]\n",
      " [-0.6325     -0.6477914  -0.19358843 -0.37794513]\n",
      " [-0.6325      0.1620086   0.04832795  0.75589771]]\n",
      "R: [[-3.16  0.95 -3.48 -2.85]\n",
      " [ 0.   -2.47 -1.74  0.12]\n",
      " [-0.    0.    1.69  0.77]\n",
      " [-0.    0.   -0.   -1.13]]\n"
     ]
    }
   ],
   "source": [
    "import math\n",
    "\n",
    "def sign(x):\n",
    "    if x > 0:\n",
    "        return 1\n",
    "    elif x < 0:\n",
    "        return -1\n",
    "    else:\n",
    "        return 0\n",
    "\n",
    "def norm(x):\n",
    "    \"\"\"Return the Euclidean norm of the vector x.\"\"\"\n",
    "    return math.sqrt(sum([x_i**2 for x_i in x]))\n",
    "\n",
    "def generate_v(A,count):\n",
    "    \n",
    "    A_last = A\n",
    "    if count > 0:\n",
    "        A = A[count:,count:]  \n",
    "    \n",
    "    e = np.zeros((len(A[:,:1]), 1))\n",
    "    e[0]=1\n",
    "#     if count ==0 and A_last.shape[0] != A_last.shape[1]:\n",
    "#         v = A[:,:1] - sign(A_last[count,count])*np.dot(norm(A[:,:1]),e)\n",
    "#     else:\n",
    "    v = A[:,:1] + sign(A_last[count,count])*np.dot(norm(A[:,:1]),e)\n",
    "    \n",
    "    H = np.eye(len(v),len(v)) - 2 * (np.dot(v,v.transpose())/np.dot(v.transpose(),v))\n",
    "    \n",
    "\n",
    "    A_new = np.dot (H, A)\n",
    "    \n",
    "    H_last = np.zeros((A_last.shape[0],A_last.shape[0]))\n",
    "    \n",
    "    for i in range(count):\n",
    "            H_last[i,i] = 1\n",
    "    \n",
    "    for i in range(H_last.shape[0]):\n",
    "        for j in range(H_last.shape[1]):\n",
    "            if i >= count and j >= count:\n",
    "                H_last[i,j] = H[i-count,j-count]\n",
    "\n",
    "    if count >= 1:   \n",
    "        for i in range(A_last.shape[0]):\n",
    "            for j in range(A_last.shape[1]):\n",
    "                if i != 0 and j != 0:\n",
    "                    A_last[i,j] = A_new[i-count,j-count]\n",
    "            \n",
    "        return (v,np.around(H_last,4),np.around(A_last,4))        \n",
    "    else:\n",
    "        return (v,np.around(H_last,4),np.around(A_new,4))\n",
    "    \n",
    "    \n",
    "# A = np.array([[1, -1, 4], [1, 4, -2], [1, 4, 2],[1, -1, 0]])\n",
    "# A = np.array([[1, 6, 2, 9], [-1, 2, 1, -1], [2, 1, 3, 2],[2, -1, 2, 1]])\n",
    "# A = np.array([[2,-2,18],[2,1,0],[1,2,0]])\n",
    "# A = np.array([[63,41,-88],[42,60,51],[0,-28,56],[126,82,-71]])\n",
    "\n",
    "# A = np.array([[2,1,2],[2,2,1],[1,2,2]]) # работает\n",
    "\n",
    "\n",
    "#----------\n",
    "# A = np.array([[1,1,0],[2,-3,0],[8,4,-4]])\n",
    "# A = np.array([[1,1,0],[2,-3,0],[8,4,-4]])\n",
    "\n",
    "# A = np.array([[2, -1, 5],[3, 2, -5],[1, 1, -2]])\n",
    "\n",
    "# A = np.array([[1, 1, ],[3, 2, -5],[1, 1, -2]])\n",
    "\n",
    "A = np.array([[1, -1, 2, 2], [-1, 2, 1, -1], [2, 1, 3, 2],[2, -1, 2, 1]])\n",
    "count = 0\n",
    "\n",
    "Q = np.eye(len(A),len(A))\n",
    "R = np.eye(len(A),len(A))\n",
    "A_last = A\n",
    "while np.allclose(A, np.triu(A)) != True and count < A.shape[1]-1:\n",
    "    v, H, A = generate_v(A,count)\n",
    "    Q = np.dot (Q,H) \n",
    "    count += 1\n",
    "R = np.dot (np.transpose(Q),A_last)\n",
    "print ('A_last',A_last)\n",
    "print ('Q:',Q)\n",
    "print ('R:', np.around(R,2))\n"
   ]
  },
  {
   "cell_type": "code",
   "execution_count": 5,
   "metadata": {
    "ExecuteTime": {
     "end_time": "2018-12-16T12:35:38.673409Z",
     "start_time": "2018-12-16T12:35:38.570107Z"
    }
   },
   "outputs": [
    {
     "ename": "NameError",
     "evalue": "name 'H_1' is not defined",
     "output_type": "error",
     "traceback": [
      "\u001b[1;31m---------------------------------------------------------------------------\u001b[0m",
      "\u001b[1;31mNameError\u001b[0m                                 Traceback (most recent call last)",
      "\u001b[1;32m<ipython-input-5-31bf0962b094>\u001b[0m in \u001b[0;36m<module>\u001b[1;34m()\u001b[0m\n\u001b[0;32m      2\u001b[0m \u001b[1;33m\u001b[0m\u001b[0m\n\u001b[0;32m      3\u001b[0m \u001b[1;33m\u001b[0m\u001b[0m\n\u001b[1;32m----> 4\u001b[1;33m \u001b[0mA_1\u001b[0m \u001b[1;33m=\u001b[0m \u001b[0mnp\u001b[0m\u001b[1;33m.\u001b[0m\u001b[0mdot\u001b[0m \u001b[1;33m(\u001b[0m\u001b[0mH_1\u001b[0m\u001b[1;33m,\u001b[0m \u001b[0mA\u001b[0m\u001b[1;33m)\u001b[0m\u001b[1;33m\u001b[0m\u001b[0m\n\u001b[0m\u001b[0;32m      5\u001b[0m \u001b[0mA_2\u001b[0m \u001b[1;33m=\u001b[0m \u001b[0mA_1\u001b[0m\u001b[1;33m[\u001b[0m\u001b[1;36m1\u001b[0m\u001b[1;33m:\u001b[0m\u001b[1;33m,\u001b[0m\u001b[1;36m1\u001b[0m\u001b[1;33m:\u001b[0m\u001b[1;33m]\u001b[0m\u001b[1;33m\u001b[0m\u001b[0m\n\u001b[0;32m      6\u001b[0m \u001b[1;33m\u001b[0m\u001b[0m\n",
      "\u001b[1;31mNameError\u001b[0m: name 'H_1' is not defined"
     ]
    }
   ],
   "source": [
    "# H_1 = np.eye(len(A[:,:1]),len(A[:,:1])) - 2 * (np.dot(v_1,v_1.transpose())/np.dot(v_1.transpose(),v_1)) #Householder matrix\n",
    "\n",
    "\n",
    "A_1 = np.dot (H_1, A)\n",
    "A_2 = A_1[1:,1:]\n",
    "\n",
    "e = np.zeros((len(A_2[:,:1]), 1))\n",
    "e[0]=1\n",
    "\n",
    "\n",
    "v_2 = A_2[:,:1] - sign(A_2[1,1]) * np.dot(norm(A_2[:,:1]),e) # определение знака не забыть дописать\n",
    "# v_2 = np.sum(A_2[:,:1]*A_2[:,:1])\n",
    "             \n",
    "v_2"
   ]
  },
  {
   "cell_type": "code",
   "execution_count": null,
   "metadata": {
    "ExecuteTime": {
     "end_time": "2018-12-16T12:35:38.674427Z",
     "start_time": "2018-12-16T12:35:36.834Z"
    }
   },
   "outputs": [],
   "source": [
    "# 6 step\n",
    "H_2 = np.eye(len(A_2[:,:1]),len(A_2[:,:1])) - 2 * (np.dot(v_2,v_2.transpose())/np.dot(v_2.transpose(),v_2)) \n",
    "H_2"
   ]
  },
  {
   "cell_type": "code",
   "execution_count": null,
   "metadata": {
    "ExecuteTime": {
     "end_time": "2018-12-16T12:35:38.675426Z",
     "start_time": "2018-12-16T12:35:36.836Z"
    }
   },
   "outputs": [],
   "source": [
    "A_2 = np.dot(H_2,A_2) #7, обозначения необходимо сменить\n",
    "# print (A_2)\n",
    "\n",
    "A_2_new = np.zeros((A_1.shape[0],A_1.shape[1]))\n",
    "# print (A_2_new)\n",
    "\n",
    "for i in range(A_1.shape[0]):\n",
    "    for j in range(A_1.shape[1]):\n",
    "        if i < 1 or j < 1:\n",
    "            A_2_new[i,j] = A_1[i,j] \n",
    "        else:\n",
    "            A_2_new[i,j] = A_2[i-1,j-1]\n",
    "#             print ('No',A_2[i-1,j-1])\n",
    "print (A_2_new)\n",
    "\n",
    "H_2_new = np.zeros((4,4))\n",
    "for i in range(4):\n",
    "    for j in range(4):\n",
    "        if i < 1 or j < 1:\n",
    "            if i == j:\n",
    "                H_2_new [i,j] = 1\n",
    "            else:\n",
    "                H_2_new [i,j] = 0\n",
    "#             print (A_1[i,j])\n",
    "        else:\n",
    "            H_2_new [i,j] = H_2[i-1,j-1]\n",
    "#             print ('No',A_2[i-1,j-1])\n",
    "print (H_2_new)       "
   ]
  },
  {
   "cell_type": "code",
   "execution_count": null,
   "metadata": {
    "ExecuteTime": {
     "end_time": "2018-12-16T12:35:38.676390Z",
     "start_time": "2018-12-16T12:35:36.838Z"
    }
   },
   "outputs": [],
   "source": [
    "for i in A_2_new:\n",
    "    if i.sum()==0:\n",
    "        print (i)\n",
    "# A_2_new_3_3 = A_2_new\n",
    "\n",
    "# заменить на более умную функцию\n",
    "# for i in range(A_1.shape[0]):\n",
    "#     for j in range(A_1.shape[1]):\n",
    "#         if i < 3 or j < 3:\n",
    "#             A_2_new_3_3[i,j] = A_1[i,j]\n",
    "\n",
    "A_2_new_3_3 = np.array([[2, 3, 2], [0, 5, -2], [0, 0, 4]])\n",
    "A_2_new_3_3"
   ]
  },
  {
   "cell_type": "code",
   "execution_count": null,
   "metadata": {
    "ExecuteTime": {
     "end_time": "2018-12-16T12:35:38.677401Z",
     "start_time": "2018-12-16T12:35:36.840Z"
    }
   },
   "outputs": [],
   "source": [
    "Q = np.dot(H_1,H_2_new)# H_1*H_2"
   ]
  },
  {
   "cell_type": "code",
   "execution_count": null,
   "metadata": {
    "ExecuteTime": {
     "end_time": "2018-12-16T12:35:38.678407Z",
     "start_time": "2018-12-16T12:35:36.842Z"
    }
   },
   "outputs": [],
   "source": [
    "Q"
   ]
  },
  {
   "cell_type": "code",
   "execution_count": null,
   "metadata": {},
   "outputs": [],
   "source": []
  },
  {
   "cell_type": "code",
   "execution_count": null,
   "metadata": {
    "ExecuteTime": {
     "end_time": "2018-12-11T14:41:35.016306Z",
     "start_time": "2018-12-11T14:41:34.984307Z"
    }
   },
   "outputs": [],
   "source": []
  },
  {
   "cell_type": "code",
   "execution_count": null,
   "metadata": {},
   "outputs": [],
   "source": []
  },
  {
   "cell_type": "code",
   "execution_count": null,
   "metadata": {},
   "outputs": [],
   "source": []
  },
  {
   "cell_type": "code",
   "execution_count": null,
   "metadata": {},
   "outputs": [],
   "source": []
  },
  {
   "cell_type": "code",
   "execution_count": null,
   "metadata": {},
   "outputs": [],
   "source": []
  },
  {
   "cell_type": "code",
   "execution_count": null,
   "metadata": {},
   "outputs": [],
   "source": []
  },
  {
   "cell_type": "code",
   "execution_count": null,
   "metadata": {},
   "outputs": [],
   "source": []
  },
  {
   "cell_type": "markdown",
   "metadata": {},
   "source": [
    "# BackUps"
   ]
  },
  {
   "cell_type": "code",
   "execution_count": null,
   "metadata": {
    "ExecuteTime": {
     "end_time": "2018-12-16T12:35:38.679398Z",
     "start_time": "2018-12-16T12:35:36.856Z"
    }
   },
   "outputs": [],
   "source": [
    "from math import sqrt\n",
    "\n",
    "def mult_matrix(M, N):\n",
    "    \"\"\"Multiply square matrices of same dimension M and N\"\"\"\n",
    "    # Converts N into a list of tuples of columns                                                                     \n",
    "    tuple_N = zip(*N)\n",
    "\n",
    "    # Nested list comprehension to calculate matrix multiplication                                                    \n",
    "    return [[sum(el_m * el_n for el_m, el_n in zip(row_m, col_n)) for col_n in tuple_N] for row_m in M]\n",
    "\n",
    "def sign(x):\n",
    "    if x > 0:\n",
    "        return 1\n",
    "    elif x < 0:\n",
    "        return -1\n",
    "    else:\n",
    "        return 0\n",
    "\n",
    "\n",
    "def trans_matrix(M):\n",
    "    \"\"\"Take the transpose of a matrix.\"\"\"\n",
    "    n = len(M)\n",
    "    return [[ M[i][j] for i in range(n)] for j in range(n)]\n",
    "\n",
    "def norm(x):\n",
    "    \"\"\"Return the Euclidean norm of the vector x.\"\"\"\n",
    "    return sqrt(sum([x_i**2 for x_i in x]))\n",
    "\n",
    "def Q_i(Q_min, i, j, k):\n",
    "    \"\"\"Construct the Q_t matrix by left-top padding the matrix Q                                                      \n",
    "    with elements from the identity matrix.\"\"\"\n",
    "    if i < k or j < k:\n",
    "        return float(i == j)\n",
    "    else:\n",
    "        return Q_min[i-k][j-k]\n",
    "\n",
    "def householder(A):\n",
    "    \"\"\"Performs a Householder Reflections based QR Decomposition of the                                               \n",
    "    matrix A. The function returns Q, an orthogonal matrix and R, an                                                  \n",
    "    upper triangular matrix such that A = QR.\"\"\"\n",
    "    n = len(A)\n",
    "\n",
    "    # Set R equal to A, and create Q as a zero matrix of the same size\n",
    "    R = A\n",
    "    Q = [[0.0] * n for i in range(n)]  # можно переписать на numpy !!!!!!!!!!!\n",
    "\n",
    "    # The Householder procedure\n",
    "    for k in range(n-1):  # We don't perform the procedure on a 1x1 matrix, so we reduce the index by 1\n",
    "        # Create identity matrix of same size as A                                                                    \n",
    "        I = [[float(i == j) for i in range(n)] for j in range(n)] # можно переписать на numpy !!!!!!!!!!!\n",
    "\n",
    "        # Create the vectors x, e and the scalar alpha\n",
    "        \n",
    "        x = [row[k] for row in R[k:]]\n",
    "        e = [row[k] for row in I[k:]]\n",
    "        alpha = -sign(x[0]) * norm(x)\n",
    "\n",
    "        # Using anonymous functions, we create u and v\n",
    "        u = map(lambda p,q: p + alpha * q, x, e)\n",
    "        norm_u = norm(u)\n",
    "        v = map(lambda p: p/norm_u, u)\n",
    "\n",
    "        # Create the Q minor matrix\n",
    "        Q_min = [ [float(i==j) - 2.0 * v[i] * v[j] for i in range(n-k)] for j in range(n-k) ]\n",
    "\n",
    "        # \"Pad out\" the Q minor matrix with elements from the identity\n",
    "        Q_t = [[ Q_i(Q_min,i,j,k) for i in range(n)] for j in range(n)]\n",
    "\n",
    "        # If this is the first run through, right multiply by A,\n",
    "        # else right multiply by Q\n",
    "        if k == 0:\n",
    "            Q = Q_t\n",
    "            R = mult_matrix(Q_t,A)\n",
    "        else:\n",
    "            Q = mult_matrix(Q_t,Q)\n",
    "            R = mult_matrix(Q_t,R)\n",
    "\n",
    "    # Since Q is defined as the product of transposes of Q_t,\n",
    "    # we need to take the transpose upon returning it\n",
    "    return trans_matrix(Q), R\n",
    "\n",
    "A = [[12, -51, 4], [6, 167, -68], [-4, 24, -41]]\n",
    "Q, R = householder(A)\n",
    "\n",
    "print (\"A:\",A)\n",
    "# pprint(A)\n",
    "\n",
    "print (\"Q:\",Q)\n",
    "pprint(Q)\n",
    "\n",
    "print (\"R:\",R)\n"
   ]
  },
  {
   "cell_type": "code",
   "execution_count": null,
   "metadata": {
    "ExecuteTime": {
     "end_time": "2018-12-16T12:35:38.680433Z",
     "start_time": "2018-12-16T12:35:36.858Z"
    }
   },
   "outputs": [],
   "source": [
    "import math\n",
    "\n",
    "def sign(x):\n",
    "    if x > 0:\n",
    "        return 1\n",
    "    elif x < 0:\n",
    "        return -1\n",
    "    else:\n",
    "        return 0\n",
    "    \n",
    "def generate_e(A):\n",
    "    e = np.zeros((len(A[:,:1]), 1))\n",
    "    e[0]=1\n",
    "    return e\n",
    "\n",
    "def generate_v(A):\n",
    "    v = A[:,:1] - sign(A[1,1])*np.dot(norm(A[:,:1]),e)\n",
    "    \n",
    "def norm(x):\n",
    "    \"\"\"Return the Euclidean norm of the vector x.\"\"\"\n",
    "    return math.sqrt(sum([x_i**2 for x_i in x]))\n",
    "\n",
    "def generate_v(A,count):\n",
    "    e = generate_e(A)\n",
    "    v = generate_v(A)\n",
    "#     v = A[:,:1] - sign(A[1,1])*np.dot(norm(A[:,:1]),e)\n",
    "    H = np.eye(len(A[:,:1]),len(A[:,:1])) - 2 * (np.dot(v,v.transpose())/np.dot(v.transpose(),v))\n",
    "    \n",
    "    A_new = np.dot (H, A)\n",
    "    if count > 1:\n",
    "        for i in range(A.shape[0]):\n",
    "            for j in range(A.shape[1]):\n",
    "                if i < 1 or j < 1:\n",
    "                    A_new[i,j] = A[i,j] \n",
    "                else:\n",
    "                    pass\n",
    "\n",
    "    return (v,H,A_new)\n",
    "    \n",
    "    \n",
    "A = np.array([[1, -1, 4], [1, 4, -2], [1, 4, 2],[1, -1, 0]])\n",
    "\n",
    "# v_1 = A[:,:1] - sign(A[1,1])*np.dot(norm(A[:,:1]),e)  # можем запихнуть в функцию\n",
    "\n",
    "\n",
    "v_1, H_1, A_1 = generate_v(A,1)\n",
    "\n",
    "\n",
    "v_2, H_2, A_2 = generate_v(A_1[1:,1:],2)\n",
    "\n",
    "print (A_2)"
   ]
  },
  {
   "cell_type": "markdown",
   "metadata": {},
   "source": [
    "# Work"
   ]
  },
  {
   "cell_type": "code",
   "execution_count": null,
   "metadata": {
    "ExecuteTime": {
     "end_time": "2018-12-16T12:35:38.681403Z",
     "start_time": "2018-12-16T12:35:36.860Z"
    }
   },
   "outputs": [],
   "source": [
    "import math\n",
    "\n",
    "def sign(x):\n",
    "    if x > 0:\n",
    "        return 1\n",
    "    elif x < 0:\n",
    "        return -1\n",
    "    else:\n",
    "        return 0\n",
    "\n",
    "def norm(x):\n",
    "    \"\"\"Return the Euclidean norm of the vector x.\"\"\"\n",
    "    return math.sqrt(sum([x_i**2 for x_i in x]))\n",
    "\n",
    "def generate_v(A,count):\n",
    "    \n",
    "    if count > 1:\n",
    "        A_last = A\n",
    "        A = A[1:,1:]\n",
    "    \n",
    "    e = np.zeros((len(A[:,:1]), 1))\n",
    "    e[0]=1\n",
    "    v = A[:,:1] - sign(A[1,1])*np.dot(norm(A[:,:1]),e)\n",
    "    H = np.eye(len(A[:,:1]),len(A[:,:1])) - 2 * (np.dot(v,v.transpose())/np.dot(v.transpose(),v))\n",
    "    \n",
    "    A_new = np.dot (H, A)\n",
    "    if count > 1:\n",
    "        H_last = np.zeros((4,4))\n",
    "        H_last[0,0] = 1\n",
    "        \n",
    "        for i in range(H_last.shape[0]):\n",
    "            for j in range(H_last.shape[1]):\n",
    "                if i != 0 and j != 0:\n",
    "                    H_last[i,j] = H[i-1,j-1]\n",
    "        for i in range(A_last.shape[0]):\n",
    "            for j in range(A_last.shape[1]):\n",
    "                if i != 0 and j != 0:\n",
    "\n",
    "                    A_last[i,j] = A_new[i-1,j-1]\n",
    "            \n",
    "#         A_last = A_last[~np.all(A_last == 0, axis=1)]\n",
    "        return (v,H_last,A_last)        \n",
    "    else:\n",
    "        return (v,H,A_new)\n",
    "    \n",
    "    \n",
    "A = np.array([[1, -1, 4], [1, 4, -2], [1, 4, 2],[1, -1, 0]])\n",
    "\n",
    "\n",
    "\n",
    "v_1, H_1, A_1 = generate_v(A,1)\n",
    "\n",
    "print (A_1)\n",
    "print (H_1)\n",
    "v_2, H_2, A_2 = generate_v(A_1,2)\n",
    "print (A_2)\n",
    "print (H_2)\n",
    "A_last = A_2\n",
    "A_last = A_last[~np.all(A_last == 0, axis=1)]\n",
    "print (A_last)\n",
    "\n",
    "print (H_1)\n",
    "print (H_2)\n",
    "Q = np.dot(H_1,H_2)\n",
    "print (Q)"
   ]
  },
  {
   "cell_type": "markdown",
   "metadata": {},
   "source": [
    "# 4x4 Q правильно выдаёт"
   ]
  },
  {
   "cell_type": "code",
   "execution_count": null,
   "metadata": {
    "ExecuteTime": {
     "end_time": "2018-12-16T12:35:38.682406Z",
     "start_time": "2018-12-16T12:35:36.863Z"
    }
   },
   "outputs": [],
   "source": [
    "import math\n",
    "\n",
    "def sign(x):\n",
    "    if x > 0:\n",
    "        return 1\n",
    "    elif x < 0:\n",
    "        return -1\n",
    "    else:\n",
    "        return 0\n",
    "\n",
    "def norm(x):\n",
    "    \"\"\"Return the Euclidean norm of the vector x.\"\"\"\n",
    "    return math.sqrt(sum([x_i**2 for x_i in x]))\n",
    "\n",
    "def generate_v(A,count):\n",
    "    \n",
    "    A_last = A\n",
    "#     print ('A_last pered cikle', A_last)\n",
    "    if count > 0:\n",
    "        A = A[count:,count:]\n",
    "#     print ('A_last posle cikle', A_last)    \n",
    "    e = np.zeros((len(A[:,:1]), 1))\n",
    "    e[0]=1\n",
    "#     print (v)\n",
    "    v = A[:,:1] + sign(A[1,1])*np.dot(norm(A[:,:1]),e)\n",
    "    \n",
    "    H = np.eye(len(v),len(v)) - 2 * (np.dot(v,v.transpose())/np.dot(v.transpose(),v))\n",
    "    \n",
    "\n",
    "    A_new = np.dot (H, A)\n",
    "    \n",
    "    H_last = np.zeros((4,4))\n",
    "    \n",
    "    for i in range(count):\n",
    "            H_last[i,i] = 1\n",
    "#     print (H_last)\n",
    "    \n",
    "    for i in range(H_last.shape[0]):\n",
    "        for j in range(H_last.shape[1]):\n",
    "            if i >= count and j >= count:\n",
    "#                 print (i,j)\n",
    "#                 print (H_last[i,j])\n",
    "#                 print (H[i-count,j-count])\n",
    "                H_last[i,j] = H[i-count,j-count]\n",
    "#         print (H_last)\n",
    "    if count >= 1:   \n",
    "        for i in range(A_last.shape[0]):\n",
    "            for j in range(A_last.shape[1]):\n",
    "                if i != 0 and j != 0:\n",
    "\n",
    "                    A_last[i,j] = A_new[i-count,j-count]\n",
    "            \n",
    "        return (v,np.around(H_last,4),np.around(A_last,4))        \n",
    "    else:\n",
    "        return (v,np.around(H_last,4),np.around(A_new,4))\n",
    "    \n",
    "    \n",
    "# A = np.array([[1, -1, 4], [1, 4, -2], [1, 4, 2],[1, -1, 0]])\n",
    "\n",
    "# A = np.array([[1, -1, 2, 2], [-1, 2, 1, -1], [2, 1, 3, 2],[2, -1, 2, 1]])\n",
    "# A = np.array([[2,-2,18],[2,1,0],[1,2,0]])\n",
    "# A = np.array([[63,41,-88],[42,60,51],[0,-28,56],[126,82,-71]])\n",
    "\n",
    "# A = np.array([[2,1,2],[2,2,1],[1,2,2]]) # работает\n",
    "\n",
    "\n",
    "#----------\n",
    "# A = np.array([[1,1,0],[2,-3,0],[8,4,-4]])\n",
    "\n",
    "\n",
    "# v_1, H_1, A_1 = generate_v(A,1)\n",
    "\n",
    "# # print (v_1)\n",
    "# print (np.around(A_1,4))\n",
    "# print (H_1)\n",
    "\n",
    "# v_2, H_2, A_2 = generate_v(A_1,2)\n",
    "\n",
    "# print (np.around(A_2,4)) # R-matrix\n",
    "# # print (H_2)\n",
    "# print ('check:', np.allclose(A_2, np.triu(A_2))) # check if upper triangular\n",
    "\n",
    "# Q = np.dot(H_1,H_2)\n",
    "# print (Q)\n",
    "\n",
    "\n",
    "# A = np.array([[1,1,0],[2,-3,0],[8,4,-4]])\n",
    "A = np.array([[2, -1, 5],[3, 2, -5],[1, 1, -2]])\n",
    "\n",
    "\n",
    "\n",
    "# A = np.array([[1, -1, 2, 2], [-1, 2, 1, -1], [2, 1, 3, 2],[2, -1, 2, 1]])\n",
    "count = 0\n",
    "\n",
    "Q = np.eye(len(A),len(A))\n",
    "while np.allclose(A, np.triu(A)) != True and count < A.shape[1]-1:\n",
    "    v, H, A = generate_v(A,count)\n",
    "    Q = np.dot (Q,H)\n",
    "    count += 1\n",
    "#     print ('Q:',Q)\n",
    "#     print ('A after step:', A)\n",
    "    print (count)\n",
    "print ('Q:',Q)\n",
    "print ('A after step:', A)\n",
    "# print (A)\n",
    "# print (Q)\n",
    "\n",
    "# v_3, H_3, A_3 = generate_v(A_2,2)\n",
    "\n",
    "# print (np.around(A_3,4))\n",
    "# print (np.around(H_3,4))\n",
    "\n",
    "\n",
    "\n",
    "# v_4, H_4, A_4 = generate_v(A_3,2)\n",
    "\n",
    "# print (np.around(A_4,4))\n",
    "# print (np.around(H_4,4))\n",
    "# A_last = A_2\n",
    "# A_last = A_last[~np.all(A_last == 0, axis=1)]\n",
    "# print (A_last)\n",
    "\n",
    "# # print (H_1)\n",
    "# # print (H_2)\n",
    "# Q = np.dot(H_1,H_2)\n",
    "# print (Q)"
   ]
  },
  {
   "cell_type": "code",
   "execution_count": null,
   "metadata": {},
   "outputs": [],
   "source": [
    "import math\n",
    "\n",
    "def sign(x):\n",
    "    if x > 0:\n",
    "        return 1\n",
    "    elif x < 0:\n",
    "        return -1\n",
    "    else:\n",
    "        return 0\n",
    "\n",
    "def znak(count):\n",
    "    if count == 0:\n",
    "        return (1)\n",
    "    if count == 1:\n",
    "        return (-1)\n",
    "    if count == 2:\n",
    "        return (1)\n",
    "def norm(x):\n",
    "    \"\"\"Return the Euclidean norm of the vector x.\"\"\"\n",
    "    return math.sqrt(sum([x_i**2 for x_i in x]))\n",
    "\n",
    "def generate_v(A,count):\n",
    "    \n",
    "    A_last = A\n",
    "#     print ('A_last pered cikle', A_last)\n",
    "    if count > 0:\n",
    "        A = A[count:,count:]  \n",
    "    \n",
    "    e = np.zeros((len(A[:,:1]), 1))\n",
    "    e[0]=1\n",
    "    v = A[:,:1] + znak(count)*sign(A[1,1])*np.dot(norm(A[:,:1]),e)\n",
    "    \n",
    "    H = np.eye(len(v),len(v)) - 2 * (np.dot(v,v.transpose())/np.dot(v.transpose(),v))\n",
    "    \n",
    "\n",
    "    A_new = np.dot (H, A)\n",
    "    \n",
    "    H_last = np.zeros((A_last.shape[0],A_last.shape[1]))\n",
    "    \n",
    "    for i in range(count):\n",
    "            H_last[i,i] = 1\n",
    "    \n",
    "    for i in range(H_last.shape[0]):\n",
    "        for j in range(H_last.shape[1]):\n",
    "            if i >= count and j >= count:\n",
    "#                 print (i,j)\n",
    "#                 print (H_last[i,j])\n",
    "#                 print (H[i-count,j-count])\n",
    "                H_last[i,j] = H[i-count,j-count]\n",
    "#         print (H_last)\n",
    "    if count >= 1:   \n",
    "        for i in range(A_last.shape[0]):\n",
    "            for j in range(A_last.shape[1]):\n",
    "                if i != 0 and j != 0:\n",
    "\n",
    "                    A_last[i,j] = A_new[i-count,j-count]\n",
    "            \n",
    "        return (v,np.around(H_last,4),np.around(A_last,4))        \n",
    "    else:\n",
    "        return (v,np.around(H_last,4),np.around(A_new,4))\n",
    "    \n",
    "    \n",
    "# A = np.array([[1, -1, 4], [1, 4, -2], [1, 4, 2],[1, -1, 0]])\n",
    "\n",
    "# A = np.array([[1, -1, 2, 2], [-1, 2, 1, -1], [2, 1, 3, 2],[2, -1, 2, 1]])\n",
    "# A = np.array([[2,-2,18],[2,1,0],[1,2,0]])\n",
    "# A = np.array([[63,41,-88],[42,60,51],[0,-28,56],[126,82,-71]])\n",
    "\n",
    "# A = np.array([[2,1,2],[2,2,1],[1,2,2]]) # работает\n",
    "\n",
    "\n",
    "#----------\n",
    "# A = np.array([[1,1,0],[2,-3,0],[8,4,-4]])\n",
    "# A = np.array([[1,1,0],[2,-3,0],[8,4,-4]])\n",
    "\n",
    "A = np.array([[2, -1, 5],[3, 2, -5],[1, 1, -2]])\n",
    "\n",
    "# A = np.array([[1, 1, ],[3, 2, -5],[1, 1, -2]])\n",
    "\n",
    "\n",
    "# A = np.array([[1, -1, 2, 2], [-1, 2, 1, -1], [2, 1, 3, 2],[2, -1, 2, 1]])\n",
    "count = 0\n",
    "\n",
    "Q = np.eye(len(A),len(A))\n",
    "print (A)\n",
    "while np.allclose(A, np.triu(A)) != True and count < A.shape[1]-1:\n",
    "    v, H, A = generate_v(A,count)\n",
    "    Q = np.dot (Q,H)\n",
    "    count += 1\n",
    "#     print ('Q:',Q)\n",
    "#     print ('A after step:', A)\n",
    "    print (count)\n",
    "print ('Q:',Q)\n",
    "print ('A after step:', A)\n"
   ]
  }
 ],
 "metadata": {
  "kernelspec": {
   "display_name": "Python 3",
   "language": "python",
   "name": "python3"
  },
  "language_info": {
   "codemirror_mode": {
    "name": "ipython",
    "version": 3
   },
   "file_extension": ".py",
   "mimetype": "text/x-python",
   "name": "python",
   "nbconvert_exporter": "python",
   "pygments_lexer": "ipython3",
   "version": "3.7.0"
  }
 },
 "nbformat": 4,
 "nbformat_minor": 2
}
